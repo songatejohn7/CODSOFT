{
 "cells": [
  {
   "cell_type": "markdown",
   "metadata": {},
   "source": [
    "# Objectives-\n",
    "*Build a machine learning model to identify fraudulent credit card transactions.\n",
    "\n",
    "*Preprocess and normalize the transaction data, handle class imbalance issues, and split the dataset into training and testing sets. \n",
    "\n",
    "*Train a classification algorithm, such as logistic regression or random forests, to classify transactions as fraudulent or genuine.\n",
    "\n",
    "*Evaluate the model's performance using metrics like precision, recall, and F1-score, and consider techniques like oversampling or undersampling for improving results. \n"
   ]
  },
  {
   "cell_type": "markdown",
   "metadata": {
    "papermill": {
     "duration": 0.009656,
     "end_time": "2023-07-15T17:19:06.514551",
     "exception": false,
     "start_time": "2023-07-15T17:19:06.504895",
     "status": "completed"
    },
    "tags": []
   },
   "source": [
    "# Import Libraries\n",
    "We import all the required libraries for building,training,testing our model.Such as pandas,nump,seaborn,sklearn,matplotlib"
   ]
  },
  {
   "cell_type": "code",
   "execution_count": 1,
   "metadata": {
    "execution": {
     "iopub.execute_input": "2023-07-15T17:19:06.535003Z",
     "iopub.status.busy": "2023-07-15T17:19:06.534212Z",
     "iopub.status.idle": "2023-07-15T17:19:09.126986Z",
     "shell.execute_reply": "2023-07-15T17:19:09.125595Z"
    },
    "papermill": {
     "duration": 2.606837,
     "end_time": "2023-07-15T17:19:09.130555",
     "exception": false,
     "start_time": "2023-07-15T17:19:06.523718",
     "status": "completed"
    },
    "tags": []
   },
   "outputs": [],
   "source": [
    "#ignore warnings\n",
    "import warnings\n",
    "warnings.filterwarnings('ignore')\n",
    "\n",
    "#Import libraries\n",
    "import pandas as pd\n",
    "import numpy as np\n",
    "import matplotlib.pyplot as plt\n",
    "import seaborn as sns\n",
    "from sklearn.linear_model import LogisticRegression\n",
    "from sklearn.model_selection import train_test_split, cross_val_score, KFold, GridSearchCV, RandomizedSearchCV\n",
    "from sklearn.metrics import accuracy_score, classification_report, confusion_matrix, classification_report\n",
    "from sklearn.ensemble import RandomForestClassifier\n",
    "from sklearn.preprocessing import StandardScaler\n",
    "from sklearn.preprocessing import normalize"
   ]
  },
  {
   "cell_type": "markdown",
   "metadata": {
    "papermill": {
     "duration": 0.009176,
     "end_time": "2023-07-15T17:19:09.149515",
     "exception": false,
     "start_time": "2023-07-15T17:19:09.140339",
     "status": "completed"
    },
    "tags": []
   },
   "source": [
    "# Read Data"
   ]
  },
  {
   "cell_type": "code",
   "execution_count": 2,
   "metadata": {
    "execution": {
     "iopub.execute_input": "2023-07-15T17:19:09.171737Z",
     "iopub.status.busy": "2023-07-15T17:19:09.171195Z",
     "iopub.status.idle": "2023-07-15T17:19:15.160683Z",
     "shell.execute_reply": "2023-07-15T17:19:15.159225Z"
    },
    "papermill": {
     "duration": 6.004545,
     "end_time": "2023-07-15T17:19:15.164021",
     "exception": false,
     "start_time": "2023-07-15T17:19:09.159476",
     "status": "completed"
    },
    "tags": []
   },
   "outputs": [],
   "source": [
    "#Read the data\n",
    "df = pd.read_csv(\"creditcard.csv\")"
   ]
  },
  {
   "cell_type": "markdown",
   "metadata": {
    "papermill": {
     "duration": 0.00908,
     "end_time": "2023-07-15T17:19:15.183359",
     "exception": false,
     "start_time": "2023-07-15T17:19:15.174279",
     "status": "completed"
    },
    "tags": []
   },
   "source": [
    "# Explore Data"
   ]
  },
  {
   "cell_type": "code",
   "execution_count": 3,
   "metadata": {
    "execution": {
     "iopub.execute_input": "2023-07-15T17:19:15.205969Z",
     "iopub.status.busy": "2023-07-15T17:19:15.205533Z",
     "iopub.status.idle": "2023-07-15T17:19:15.258333Z",
     "shell.execute_reply": "2023-07-15T17:19:15.257064Z"
    },
    "papermill": {
     "duration": 0.068411,
     "end_time": "2023-07-15T17:19:15.261608",
     "exception": false,
     "start_time": "2023-07-15T17:19:15.193197",
     "status": "completed"
    },
    "tags": []
   },
   "outputs": [
    {
     "data": {
      "text/html": [
       "<div>\n",
       "<style scoped>\n",
       "    .dataframe tbody tr th:only-of-type {\n",
       "        vertical-align: middle;\n",
       "    }\n",
       "\n",
       "    .dataframe tbody tr th {\n",
       "        vertical-align: top;\n",
       "    }\n",
       "\n",
       "    .dataframe thead th {\n",
       "        text-align: right;\n",
       "    }\n",
       "</style>\n",
       "<table border=\"1\" class=\"dataframe\">\n",
       "  <thead>\n",
       "    <tr style=\"text-align: right;\">\n",
       "      <th></th>\n",
       "      <th>Time</th>\n",
       "      <th>V1</th>\n",
       "      <th>V2</th>\n",
       "      <th>V3</th>\n",
       "      <th>V4</th>\n",
       "      <th>V5</th>\n",
       "      <th>V6</th>\n",
       "      <th>V7</th>\n",
       "      <th>V8</th>\n",
       "      <th>V9</th>\n",
       "      <th>...</th>\n",
       "      <th>V21</th>\n",
       "      <th>V22</th>\n",
       "      <th>V23</th>\n",
       "      <th>V24</th>\n",
       "      <th>V25</th>\n",
       "      <th>V26</th>\n",
       "      <th>V27</th>\n",
       "      <th>V28</th>\n",
       "      <th>Amount</th>\n",
       "      <th>Class</th>\n",
       "    </tr>\n",
       "  </thead>\n",
       "  <tbody>\n",
       "    <tr>\n",
       "      <th>0</th>\n",
       "      <td>0</td>\n",
       "      <td>-1.359807</td>\n",
       "      <td>-0.072781</td>\n",
       "      <td>2.536347</td>\n",
       "      <td>1.378155</td>\n",
       "      <td>-0.338321</td>\n",
       "      <td>0.462388</td>\n",
       "      <td>0.239599</td>\n",
       "      <td>0.098698</td>\n",
       "      <td>0.363787</td>\n",
       "      <td>...</td>\n",
       "      <td>-0.018307</td>\n",
       "      <td>0.277838</td>\n",
       "      <td>-0.110474</td>\n",
       "      <td>0.066928</td>\n",
       "      <td>0.128539</td>\n",
       "      <td>-0.189115</td>\n",
       "      <td>0.133558</td>\n",
       "      <td>-0.021053</td>\n",
       "      <td>149.62</td>\n",
       "      <td>0</td>\n",
       "    </tr>\n",
       "    <tr>\n",
       "      <th>1</th>\n",
       "      <td>0</td>\n",
       "      <td>1.191857</td>\n",
       "      <td>0.266151</td>\n",
       "      <td>0.166480</td>\n",
       "      <td>0.448154</td>\n",
       "      <td>0.060018</td>\n",
       "      <td>-0.082361</td>\n",
       "      <td>-0.078803</td>\n",
       "      <td>0.085102</td>\n",
       "      <td>-0.255425</td>\n",
       "      <td>...</td>\n",
       "      <td>-0.225775</td>\n",
       "      <td>-0.638672</td>\n",
       "      <td>0.101288</td>\n",
       "      <td>-0.339846</td>\n",
       "      <td>0.167170</td>\n",
       "      <td>0.125895</td>\n",
       "      <td>-0.008983</td>\n",
       "      <td>0.014724</td>\n",
       "      <td>2.69</td>\n",
       "      <td>0</td>\n",
       "    </tr>\n",
       "    <tr>\n",
       "      <th>2</th>\n",
       "      <td>1</td>\n",
       "      <td>-1.358354</td>\n",
       "      <td>-1.340163</td>\n",
       "      <td>1.773209</td>\n",
       "      <td>0.379780</td>\n",
       "      <td>-0.503198</td>\n",
       "      <td>1.800499</td>\n",
       "      <td>0.791461</td>\n",
       "      <td>0.247676</td>\n",
       "      <td>-1.514654</td>\n",
       "      <td>...</td>\n",
       "      <td>0.247998</td>\n",
       "      <td>0.771679</td>\n",
       "      <td>0.909412</td>\n",
       "      <td>-0.689281</td>\n",
       "      <td>-0.327642</td>\n",
       "      <td>-0.139097</td>\n",
       "      <td>-0.055353</td>\n",
       "      <td>-0.059752</td>\n",
       "      <td>378.66</td>\n",
       "      <td>0</td>\n",
       "    </tr>\n",
       "    <tr>\n",
       "      <th>3</th>\n",
       "      <td>1</td>\n",
       "      <td>-0.966272</td>\n",
       "      <td>-0.185226</td>\n",
       "      <td>1.792993</td>\n",
       "      <td>-0.863291</td>\n",
       "      <td>-0.010309</td>\n",
       "      <td>1.247203</td>\n",
       "      <td>0.237609</td>\n",
       "      <td>0.377436</td>\n",
       "      <td>-1.387024</td>\n",
       "      <td>...</td>\n",
       "      <td>-0.108300</td>\n",
       "      <td>0.005274</td>\n",
       "      <td>-0.190321</td>\n",
       "      <td>-1.175575</td>\n",
       "      <td>0.647376</td>\n",
       "      <td>-0.221929</td>\n",
       "      <td>0.062723</td>\n",
       "      <td>0.061458</td>\n",
       "      <td>123.50</td>\n",
       "      <td>0</td>\n",
       "    </tr>\n",
       "    <tr>\n",
       "      <th>4</th>\n",
       "      <td>2</td>\n",
       "      <td>-1.158233</td>\n",
       "      <td>0.877737</td>\n",
       "      <td>1.548718</td>\n",
       "      <td>0.403034</td>\n",
       "      <td>-0.407193</td>\n",
       "      <td>0.095921</td>\n",
       "      <td>0.592941</td>\n",
       "      <td>-0.270533</td>\n",
       "      <td>0.817739</td>\n",
       "      <td>...</td>\n",
       "      <td>-0.009431</td>\n",
       "      <td>0.798278</td>\n",
       "      <td>-0.137458</td>\n",
       "      <td>0.141267</td>\n",
       "      <td>-0.206010</td>\n",
       "      <td>0.502292</td>\n",
       "      <td>0.219422</td>\n",
       "      <td>0.215153</td>\n",
       "      <td>69.99</td>\n",
       "      <td>0</td>\n",
       "    </tr>\n",
       "    <tr>\n",
       "      <th>5</th>\n",
       "      <td>2</td>\n",
       "      <td>-0.425966</td>\n",
       "      <td>0.960523</td>\n",
       "      <td>1.141109</td>\n",
       "      <td>-0.168252</td>\n",
       "      <td>0.420987</td>\n",
       "      <td>-0.029728</td>\n",
       "      <td>0.476201</td>\n",
       "      <td>0.260314</td>\n",
       "      <td>-0.568671</td>\n",
       "      <td>...</td>\n",
       "      <td>-0.208254</td>\n",
       "      <td>-0.559825</td>\n",
       "      <td>-0.026398</td>\n",
       "      <td>-0.371427</td>\n",
       "      <td>-0.232794</td>\n",
       "      <td>0.105915</td>\n",
       "      <td>0.253844</td>\n",
       "      <td>0.081080</td>\n",
       "      <td>3.67</td>\n",
       "      <td>0</td>\n",
       "    </tr>\n",
       "    <tr>\n",
       "      <th>6</th>\n",
       "      <td>4</td>\n",
       "      <td>1.229658</td>\n",
       "      <td>0.141004</td>\n",
       "      <td>0.045371</td>\n",
       "      <td>1.202613</td>\n",
       "      <td>0.191881</td>\n",
       "      <td>0.272708</td>\n",
       "      <td>-0.005159</td>\n",
       "      <td>0.081213</td>\n",
       "      <td>0.464960</td>\n",
       "      <td>...</td>\n",
       "      <td>-0.167716</td>\n",
       "      <td>-0.270710</td>\n",
       "      <td>-0.154104</td>\n",
       "      <td>-0.780055</td>\n",
       "      <td>0.750137</td>\n",
       "      <td>-0.257237</td>\n",
       "      <td>0.034507</td>\n",
       "      <td>0.005168</td>\n",
       "      <td>4.99</td>\n",
       "      <td>0</td>\n",
       "    </tr>\n",
       "    <tr>\n",
       "      <th>7</th>\n",
       "      <td>7</td>\n",
       "      <td>-0.644269</td>\n",
       "      <td>1.417964</td>\n",
       "      <td>1.074380</td>\n",
       "      <td>-0.492199</td>\n",
       "      <td>0.948934</td>\n",
       "      <td>0.428118</td>\n",
       "      <td>1.120631</td>\n",
       "      <td>-3.807864</td>\n",
       "      <td>0.615375</td>\n",
       "      <td>...</td>\n",
       "      <td>1.943465</td>\n",
       "      <td>-1.015455</td>\n",
       "      <td>0.057504</td>\n",
       "      <td>-0.649709</td>\n",
       "      <td>-0.415267</td>\n",
       "      <td>-0.051634</td>\n",
       "      <td>-1.206921</td>\n",
       "      <td>-1.085339</td>\n",
       "      <td>40.80</td>\n",
       "      <td>0</td>\n",
       "    </tr>\n",
       "    <tr>\n",
       "      <th>8</th>\n",
       "      <td>7</td>\n",
       "      <td>-0.894286</td>\n",
       "      <td>0.286157</td>\n",
       "      <td>-0.113192</td>\n",
       "      <td>-0.271526</td>\n",
       "      <td>2.669599</td>\n",
       "      <td>3.721818</td>\n",
       "      <td>0.370145</td>\n",
       "      <td>0.851084</td>\n",
       "      <td>-0.392048</td>\n",
       "      <td>...</td>\n",
       "      <td>-0.073425</td>\n",
       "      <td>-0.268092</td>\n",
       "      <td>-0.204233</td>\n",
       "      <td>1.011592</td>\n",
       "      <td>0.373205</td>\n",
       "      <td>-0.384157</td>\n",
       "      <td>0.011747</td>\n",
       "      <td>0.142404</td>\n",
       "      <td>93.20</td>\n",
       "      <td>0</td>\n",
       "    </tr>\n",
       "    <tr>\n",
       "      <th>9</th>\n",
       "      <td>9</td>\n",
       "      <td>-0.338262</td>\n",
       "      <td>1.119593</td>\n",
       "      <td>1.044367</td>\n",
       "      <td>-0.222187</td>\n",
       "      <td>0.499361</td>\n",
       "      <td>-0.246761</td>\n",
       "      <td>0.651583</td>\n",
       "      <td>0.069539</td>\n",
       "      <td>-0.736727</td>\n",
       "      <td>...</td>\n",
       "      <td>-0.246914</td>\n",
       "      <td>-0.633753</td>\n",
       "      <td>-0.120794</td>\n",
       "      <td>-0.385050</td>\n",
       "      <td>-0.069733</td>\n",
       "      <td>0.094199</td>\n",
       "      <td>0.246219</td>\n",
       "      <td>0.083076</td>\n",
       "      <td>3.68</td>\n",
       "      <td>0</td>\n",
       "    </tr>\n",
       "  </tbody>\n",
       "</table>\n",
       "<p>10 rows × 31 columns</p>\n",
       "</div>"
      ],
      "text/plain": [
       "   Time        V1        V2        V3        V4        V5        V6        V7  \\\n",
       "0     0 -1.359807 -0.072781  2.536347  1.378155 -0.338321  0.462388  0.239599   \n",
       "1     0  1.191857  0.266151  0.166480  0.448154  0.060018 -0.082361 -0.078803   \n",
       "2     1 -1.358354 -1.340163  1.773209  0.379780 -0.503198  1.800499  0.791461   \n",
       "3     1 -0.966272 -0.185226  1.792993 -0.863291 -0.010309  1.247203  0.237609   \n",
       "4     2 -1.158233  0.877737  1.548718  0.403034 -0.407193  0.095921  0.592941   \n",
       "5     2 -0.425966  0.960523  1.141109 -0.168252  0.420987 -0.029728  0.476201   \n",
       "6     4  1.229658  0.141004  0.045371  1.202613  0.191881  0.272708 -0.005159   \n",
       "7     7 -0.644269  1.417964  1.074380 -0.492199  0.948934  0.428118  1.120631   \n",
       "8     7 -0.894286  0.286157 -0.113192 -0.271526  2.669599  3.721818  0.370145   \n",
       "9     9 -0.338262  1.119593  1.044367 -0.222187  0.499361 -0.246761  0.651583   \n",
       "\n",
       "         V8        V9  ...       V21       V22       V23       V24       V25  \\\n",
       "0  0.098698  0.363787  ... -0.018307  0.277838 -0.110474  0.066928  0.128539   \n",
       "1  0.085102 -0.255425  ... -0.225775 -0.638672  0.101288 -0.339846  0.167170   \n",
       "2  0.247676 -1.514654  ...  0.247998  0.771679  0.909412 -0.689281 -0.327642   \n",
       "3  0.377436 -1.387024  ... -0.108300  0.005274 -0.190321 -1.175575  0.647376   \n",
       "4 -0.270533  0.817739  ... -0.009431  0.798278 -0.137458  0.141267 -0.206010   \n",
       "5  0.260314 -0.568671  ... -0.208254 -0.559825 -0.026398 -0.371427 -0.232794   \n",
       "6  0.081213  0.464960  ... -0.167716 -0.270710 -0.154104 -0.780055  0.750137   \n",
       "7 -3.807864  0.615375  ...  1.943465 -1.015455  0.057504 -0.649709 -0.415267   \n",
       "8  0.851084 -0.392048  ... -0.073425 -0.268092 -0.204233  1.011592  0.373205   \n",
       "9  0.069539 -0.736727  ... -0.246914 -0.633753 -0.120794 -0.385050 -0.069733   \n",
       "\n",
       "        V26       V27       V28  Amount  Class  \n",
       "0 -0.189115  0.133558 -0.021053  149.62      0  \n",
       "1  0.125895 -0.008983  0.014724    2.69      0  \n",
       "2 -0.139097 -0.055353 -0.059752  378.66      0  \n",
       "3 -0.221929  0.062723  0.061458  123.50      0  \n",
       "4  0.502292  0.219422  0.215153   69.99      0  \n",
       "5  0.105915  0.253844  0.081080    3.67      0  \n",
       "6 -0.257237  0.034507  0.005168    4.99      0  \n",
       "7 -0.051634 -1.206921 -1.085339   40.80      0  \n",
       "8 -0.384157  0.011747  0.142404   93.20      0  \n",
       "9  0.094199  0.246219  0.083076    3.68      0  \n",
       "\n",
       "[10 rows x 31 columns]"
      ]
     },
     "execution_count": 3,
     "metadata": {},
     "output_type": "execute_result"
    }
   ],
   "source": [
    "df.head(10)"
   ]
  },
  {
   "cell_type": "code",
   "execution_count": 4,
   "metadata": {
    "execution": {
     "iopub.execute_input": "2023-07-15T17:19:15.283957Z",
     "iopub.status.busy": "2023-07-15T17:19:15.282491Z",
     "iopub.status.idle": "2023-07-15T17:19:15.290915Z",
     "shell.execute_reply": "2023-07-15T17:19:15.289661Z"
    },
    "papermill": {
     "duration": 0.022336,
     "end_time": "2023-07-15T17:19:15.293637",
     "exception": false,
     "start_time": "2023-07-15T17:19:15.271301",
     "status": "completed"
    },
    "tags": []
   },
   "outputs": [
    {
     "data": {
      "text/plain": [
       "(153758, 31)"
      ]
     },
     "execution_count": 4,
     "metadata": {},
     "output_type": "execute_result"
    }
   ],
   "source": [
    "df.shape"
   ]
  },
  {
   "cell_type": "code",
   "execution_count": 5,
   "metadata": {
    "execution": {
     "iopub.execute_input": "2023-07-15T17:19:15.421460Z",
     "iopub.status.busy": "2023-07-15T17:19:15.420603Z",
     "iopub.status.idle": "2023-07-15T17:19:15.443814Z",
     "shell.execute_reply": "2023-07-15T17:19:15.442614Z"
    },
    "papermill": {
     "duration": 0.037589,
     "end_time": "2023-07-15T17:19:15.446601",
     "exception": false,
     "start_time": "2023-07-15T17:19:15.409012",
     "status": "completed"
    },
    "tags": []
   },
   "outputs": [
    {
     "data": {
      "text/plain": [
       "Time      0\n",
       "V28       0\n",
       "V27       0\n",
       "V26       0\n",
       "V25       0\n",
       "V24       0\n",
       "V23       0\n",
       "V22       0\n",
       "V21       0\n",
       "V20       0\n",
       "V19       0\n",
       "V18       0\n",
       "V17       0\n",
       "V16       0\n",
       "Amount    0\n",
       "V15       0\n",
       "V13       0\n",
       "V12       0\n",
       "V11       0\n",
       "V10       0\n",
       "V9        0\n",
       "V8        0\n",
       "V7        0\n",
       "V6        0\n",
       "V5        0\n",
       "V4        0\n",
       "V3        0\n",
       "V2        0\n",
       "V1        0\n",
       "V14       0\n",
       "Class     0\n",
       "dtype: int64"
      ]
     },
     "execution_count": 5,
     "metadata": {},
     "output_type": "execute_result"
    }
   ],
   "source": [
    "df.isna().sum().sort_values()"
   ]
  },
  {
   "cell_type": "markdown",
   "metadata": {
    "papermill": {
     "duration": 0.010222,
     "end_time": "2023-07-15T17:19:15.467676",
     "exception": false,
     "start_time": "2023-07-15T17:19:15.457454",
     "status": "completed"
    },
    "tags": []
   },
   "source": [
    "No missing values :)"
   ]
  },
  {
   "cell_type": "code",
   "execution_count": 6,
   "metadata": {
    "execution": {
     "iopub.execute_input": "2023-07-15T17:19:15.490789Z",
     "iopub.status.busy": "2023-07-15T17:19:15.489520Z",
     "iopub.status.idle": "2023-07-15T17:19:16.015150Z",
     "shell.execute_reply": "2023-07-15T17:19:16.013632Z"
    },
    "papermill": {
     "duration": 0.539914,
     "end_time": "2023-07-15T17:19:16.017816",
     "exception": false,
     "start_time": "2023-07-15T17:19:15.477902",
     "status": "completed"
    },
    "tags": []
   },
   "outputs": [
    {
     "data": {
      "text/html": [
       "<div>\n",
       "<style scoped>\n",
       "    .dataframe tbody tr th:only-of-type {\n",
       "        vertical-align: middle;\n",
       "    }\n",
       "\n",
       "    .dataframe tbody tr th {\n",
       "        vertical-align: top;\n",
       "    }\n",
       "\n",
       "    .dataframe thead th {\n",
       "        text-align: right;\n",
       "    }\n",
       "</style>\n",
       "<table border=\"1\" class=\"dataframe\">\n",
       "  <thead>\n",
       "    <tr style=\"text-align: right;\">\n",
       "      <th></th>\n",
       "      <th>Time</th>\n",
       "      <th>V1</th>\n",
       "      <th>V2</th>\n",
       "      <th>V3</th>\n",
       "      <th>V4</th>\n",
       "      <th>V5</th>\n",
       "      <th>V6</th>\n",
       "      <th>V7</th>\n",
       "      <th>V8</th>\n",
       "      <th>V9</th>\n",
       "      <th>...</th>\n",
       "      <th>V21</th>\n",
       "      <th>V22</th>\n",
       "      <th>V23</th>\n",
       "      <th>V24</th>\n",
       "      <th>V25</th>\n",
       "      <th>V26</th>\n",
       "      <th>V27</th>\n",
       "      <th>V28</th>\n",
       "      <th>Amount</th>\n",
       "      <th>Class</th>\n",
       "    </tr>\n",
       "  </thead>\n",
       "  <tbody>\n",
       "    <tr>\n",
       "      <th>count</th>\n",
       "      <td>153758.000000</td>\n",
       "      <td>153758.000000</td>\n",
       "      <td>153758.000000</td>\n",
       "      <td>153758.000000</td>\n",
       "      <td>153758.000000</td>\n",
       "      <td>153758.000000</td>\n",
       "      <td>153758.000000</td>\n",
       "      <td>153758.000000</td>\n",
       "      <td>153758.000000</td>\n",
       "      <td>153758.000000</td>\n",
       "      <td>...</td>\n",
       "      <td>153758.000000</td>\n",
       "      <td>153758.000000</td>\n",
       "      <td>153758.000000</td>\n",
       "      <td>153758.000000</td>\n",
       "      <td>153758.000000</td>\n",
       "      <td>153758.000000</td>\n",
       "      <td>153758.000000</td>\n",
       "      <td>153758.000000</td>\n",
       "      <td>153758.000000</td>\n",
       "      <td>153758.000000</td>\n",
       "    </tr>\n",
       "    <tr>\n",
       "      <th>mean</th>\n",
       "      <td>55219.166333</td>\n",
       "      <td>-0.234187</td>\n",
       "      <td>0.045504</td>\n",
       "      <td>0.604016</td>\n",
       "      <td>0.134835</td>\n",
       "      <td>-0.236612</td>\n",
       "      <td>0.069428</td>\n",
       "      <td>-0.103249</td>\n",
       "      <td>0.051217</td>\n",
       "      <td>-0.029171</td>\n",
       "      <td>...</td>\n",
       "      <td>-0.036877</td>\n",
       "      <td>-0.109254</td>\n",
       "      <td>-0.028362</td>\n",
       "      <td>0.011553</td>\n",
       "      <td>0.115682</td>\n",
       "      <td>0.022757</td>\n",
       "      <td>0.001876</td>\n",
       "      <td>0.002859</td>\n",
       "      <td>88.537235</td>\n",
       "      <td>0.002146</td>\n",
       "    </tr>\n",
       "    <tr>\n",
       "      <th>std</th>\n",
       "      <td>22658.988461</td>\n",
       "      <td>1.836892</td>\n",
       "      <td>1.620692</td>\n",
       "      <td>1.327202</td>\n",
       "      <td>1.352793</td>\n",
       "      <td>1.326851</td>\n",
       "      <td>1.290105</td>\n",
       "      <td>1.195012</td>\n",
       "      <td>1.239475</td>\n",
       "      <td>1.131997</td>\n",
       "      <td>...</td>\n",
       "      <td>0.742079</td>\n",
       "      <td>0.647129</td>\n",
       "      <td>0.585021</td>\n",
       "      <td>0.595752</td>\n",
       "      <td>0.448905</td>\n",
       "      <td>0.490984</td>\n",
       "      <td>0.392118</td>\n",
       "      <td>0.311831</td>\n",
       "      <td>246.097358</td>\n",
       "      <td>0.046278</td>\n",
       "    </tr>\n",
       "    <tr>\n",
       "      <th>min</th>\n",
       "      <td>0.000000</td>\n",
       "      <td>-56.407510</td>\n",
       "      <td>-72.715728</td>\n",
       "      <td>-33.680984</td>\n",
       "      <td>-5.519697</td>\n",
       "      <td>-42.147898</td>\n",
       "      <td>-26.160506</td>\n",
       "      <td>-31.764946</td>\n",
       "      <td>-73.216718</td>\n",
       "      <td>-9.462573</td>\n",
       "      <td>...</td>\n",
       "      <td>-34.830382</td>\n",
       "      <td>-10.933144</td>\n",
       "      <td>-44.807735</td>\n",
       "      <td>-2.836627</td>\n",
       "      <td>-10.295397</td>\n",
       "      <td>-2.604551</td>\n",
       "      <td>-22.565679</td>\n",
       "      <td>-11.710896</td>\n",
       "      <td>0.000000</td>\n",
       "      <td>0.000000</td>\n",
       "    </tr>\n",
       "    <tr>\n",
       "      <th>25%</th>\n",
       "      <td>39394.000000</td>\n",
       "      <td>-1.021436</td>\n",
       "      <td>-0.539477</td>\n",
       "      <td>0.096945</td>\n",
       "      <td>-0.723555</td>\n",
       "      <td>-0.873953</td>\n",
       "      <td>-0.675633</td>\n",
       "      <td>-0.598162</td>\n",
       "      <td>-0.143827</td>\n",
       "      <td>-0.685397</td>\n",
       "      <td>...</td>\n",
       "      <td>-0.229086</td>\n",
       "      <td>-0.551681</td>\n",
       "      <td>-0.170680</td>\n",
       "      <td>-0.327445</td>\n",
       "      <td>-0.159352</td>\n",
       "      <td>-0.325815</td>\n",
       "      <td>-0.062807</td>\n",
       "      <td>-0.009576</td>\n",
       "      <td>5.860000</td>\n",
       "      <td>0.000000</td>\n",
       "    </tr>\n",
       "    <tr>\n",
       "      <th>50%</th>\n",
       "      <td>56784.000000</td>\n",
       "      <td>-0.258642</td>\n",
       "      <td>0.119851</td>\n",
       "      <td>0.704860</td>\n",
       "      <td>0.154723</td>\n",
       "      <td>-0.278833</td>\n",
       "      <td>-0.187899</td>\n",
       "      <td>-0.050370</td>\n",
       "      <td>0.072529</td>\n",
       "      <td>-0.116185</td>\n",
       "      <td>...</td>\n",
       "      <td>-0.059646</td>\n",
       "      <td>-0.085381</td>\n",
       "      <td>-0.041720</td>\n",
       "      <td>0.065159</td>\n",
       "      <td>0.154804</td>\n",
       "      <td>-0.056037</td>\n",
       "      <td>0.011011</td>\n",
       "      <td>0.022910</td>\n",
       "      <td>22.505000</td>\n",
       "      <td>0.000000</td>\n",
       "    </tr>\n",
       "    <tr>\n",
       "      <th>75%</th>\n",
       "      <td>73829.000000</td>\n",
       "      <td>1.164805</td>\n",
       "      <td>0.805848</td>\n",
       "      <td>1.337165</td>\n",
       "      <td>0.975383</td>\n",
       "      <td>0.295161</td>\n",
       "      <td>0.457292</td>\n",
       "      <td>0.435721</td>\n",
       "      <td>0.368644</td>\n",
       "      <td>0.571993</td>\n",
       "      <td>...</td>\n",
       "      <td>0.115133</td>\n",
       "      <td>0.321049</td>\n",
       "      <td>0.088913</td>\n",
       "      <td>0.411360</td>\n",
       "      <td>0.413009</td>\n",
       "      <td>0.286990</td>\n",
       "      <td>0.089884</td>\n",
       "      <td>0.078260</td>\n",
       "      <td>79.000000</td>\n",
       "      <td>0.000000</td>\n",
       "    </tr>\n",
       "    <tr>\n",
       "      <th>max</th>\n",
       "      <td>99999.000000</td>\n",
       "      <td>2.401777</td>\n",
       "      <td>18.902453</td>\n",
       "      <td>9.382558</td>\n",
       "      <td>16.875344</td>\n",
       "      <td>34.801666</td>\n",
       "      <td>22.529298</td>\n",
       "      <td>36.677268</td>\n",
       "      <td>20.007208</td>\n",
       "      <td>15.594995</td>\n",
       "      <td>...</td>\n",
       "      <td>27.202839</td>\n",
       "      <td>10.503090</td>\n",
       "      <td>19.002942</td>\n",
       "      <td>4.022866</td>\n",
       "      <td>7.519589</td>\n",
       "      <td>3.517346</td>\n",
       "      <td>12.152401</td>\n",
       "      <td>33.847808</td>\n",
       "      <td>19656.530000</td>\n",
       "      <td>1.000000</td>\n",
       "    </tr>\n",
       "  </tbody>\n",
       "</table>\n",
       "<p>8 rows × 31 columns</p>\n",
       "</div>"
      ],
      "text/plain": [
       "                Time             V1             V2             V3  \\\n",
       "count  153758.000000  153758.000000  153758.000000  153758.000000   \n",
       "mean    55219.166333      -0.234187       0.045504       0.604016   \n",
       "std     22658.988461       1.836892       1.620692       1.327202   \n",
       "min         0.000000     -56.407510     -72.715728     -33.680984   \n",
       "25%     39394.000000      -1.021436      -0.539477       0.096945   \n",
       "50%     56784.000000      -0.258642       0.119851       0.704860   \n",
       "75%     73829.000000       1.164805       0.805848       1.337165   \n",
       "max     99999.000000       2.401777      18.902453       9.382558   \n",
       "\n",
       "                  V4             V5             V6             V7  \\\n",
       "count  153758.000000  153758.000000  153758.000000  153758.000000   \n",
       "mean        0.134835      -0.236612       0.069428      -0.103249   \n",
       "std         1.352793       1.326851       1.290105       1.195012   \n",
       "min        -5.519697     -42.147898     -26.160506     -31.764946   \n",
       "25%        -0.723555      -0.873953      -0.675633      -0.598162   \n",
       "50%         0.154723      -0.278833      -0.187899      -0.050370   \n",
       "75%         0.975383       0.295161       0.457292       0.435721   \n",
       "max        16.875344      34.801666      22.529298      36.677268   \n",
       "\n",
       "                  V8             V9  ...            V21            V22  \\\n",
       "count  153758.000000  153758.000000  ...  153758.000000  153758.000000   \n",
       "mean        0.051217      -0.029171  ...      -0.036877      -0.109254   \n",
       "std         1.239475       1.131997  ...       0.742079       0.647129   \n",
       "min       -73.216718      -9.462573  ...     -34.830382     -10.933144   \n",
       "25%        -0.143827      -0.685397  ...      -0.229086      -0.551681   \n",
       "50%         0.072529      -0.116185  ...      -0.059646      -0.085381   \n",
       "75%         0.368644       0.571993  ...       0.115133       0.321049   \n",
       "max        20.007208      15.594995  ...      27.202839      10.503090   \n",
       "\n",
       "                 V23            V24            V25            V26  \\\n",
       "count  153758.000000  153758.000000  153758.000000  153758.000000   \n",
       "mean       -0.028362       0.011553       0.115682       0.022757   \n",
       "std         0.585021       0.595752       0.448905       0.490984   \n",
       "min       -44.807735      -2.836627     -10.295397      -2.604551   \n",
       "25%        -0.170680      -0.327445      -0.159352      -0.325815   \n",
       "50%        -0.041720       0.065159       0.154804      -0.056037   \n",
       "75%         0.088913       0.411360       0.413009       0.286990   \n",
       "max        19.002942       4.022866       7.519589       3.517346   \n",
       "\n",
       "                 V27            V28         Amount          Class  \n",
       "count  153758.000000  153758.000000  153758.000000  153758.000000  \n",
       "mean        0.001876       0.002859      88.537235       0.002146  \n",
       "std         0.392118       0.311831     246.097358       0.046278  \n",
       "min       -22.565679     -11.710896       0.000000       0.000000  \n",
       "25%        -0.062807      -0.009576       5.860000       0.000000  \n",
       "50%         0.011011       0.022910      22.505000       0.000000  \n",
       "75%         0.089884       0.078260      79.000000       0.000000  \n",
       "max        12.152401      33.847808   19656.530000       1.000000  \n",
       "\n",
       "[8 rows x 31 columns]"
      ]
     },
     "execution_count": 6,
     "metadata": {},
     "output_type": "execute_result"
    }
   ],
   "source": [
    "df.describe()"
   ]
  },
  {
   "cell_type": "code",
   "execution_count": 7,
   "metadata": {
    "execution": {
     "iopub.execute_input": "2023-07-15T17:19:16.041985Z",
     "iopub.status.busy": "2023-07-15T17:19:16.041496Z",
     "iopub.status.idle": "2023-07-15T17:19:16.084490Z",
     "shell.execute_reply": "2023-07-15T17:19:16.083017Z"
    },
    "papermill": {
     "duration": 0.058349,
     "end_time": "2023-07-15T17:19:16.087319",
     "exception": false,
     "start_time": "2023-07-15T17:19:16.028970",
     "status": "completed"
    },
    "tags": []
   },
   "outputs": [
    {
     "name": "stdout",
     "output_type": "stream",
     "text": [
      "There are 330 fraudulent transactions\n",
      "There are 153428 valid transcations\n"
     ]
    }
   ],
   "source": [
    "#Define fraud and valid\n",
    "f = df[df['Class'] == 1]\n",
    "v = df[df['Class'] == 0]\n",
    "#Print counts\n",
    "print('There are {} fraudulent transactions'.format(f.shape[0]))\n",
    "print('There are {} valid transcations'.format(v.shape[0]))"
   ]
  },
  {
   "cell_type": "code",
   "execution_count": 8,
   "metadata": {
    "execution": {
     "iopub.execute_input": "2023-07-15T17:19:16.111410Z",
     "iopub.status.busy": "2023-07-15T17:19:16.110962Z",
     "iopub.status.idle": "2023-07-15T17:19:16.124155Z",
     "shell.execute_reply": "2023-07-15T17:19:16.122779Z"
    },
    "papermill": {
     "duration": 0.028982,
     "end_time": "2023-07-15T17:19:16.127331",
     "exception": false,
     "start_time": "2023-07-15T17:19:16.098349",
     "status": "completed"
    },
    "tags": []
   },
   "outputs": [
    {
     "data": {
      "text/plain": [
       "count     330.000000\n",
       "mean      115.783606\n",
       "std       233.695450\n",
       "min         0.000000\n",
       "25%         1.000000\n",
       "50%        12.310000\n",
       "75%       103.397500\n",
       "max      1809.680000\n",
       "Name: Amount, dtype: float64"
      ]
     },
     "execution_count": 8,
     "metadata": {},
     "output_type": "execute_result"
    }
   ],
   "source": [
    "#Summary statistics for fraudulent transcaction\n",
    "f.Amount.describe()"
   ]
  },
  {
   "cell_type": "code",
   "execution_count": 9,
   "metadata": {
    "execution": {
     "iopub.execute_input": "2023-07-15T17:19:16.152679Z",
     "iopub.status.busy": "2023-07-15T17:19:16.151956Z",
     "iopub.status.idle": "2023-07-15T17:19:16.175055Z",
     "shell.execute_reply": "2023-07-15T17:19:16.173931Z"
    },
    "papermill": {
     "duration": 0.038596,
     "end_time": "2023-07-15T17:19:16.177537",
     "exception": false,
     "start_time": "2023-07-15T17:19:16.138941",
     "status": "completed"
    },
    "tags": []
   },
   "outputs": [
    {
     "data": {
      "text/plain": [
       "count    153428.000000\n",
       "mean         88.478632\n",
       "std         246.120831\n",
       "min           0.000000\n",
       "25%           5.900000\n",
       "50%          22.540000\n",
       "75%          78.850000\n",
       "max       19656.530000\n",
       "Name: Amount, dtype: float64"
      ]
     },
     "execution_count": 9,
     "metadata": {},
     "output_type": "execute_result"
    }
   ],
   "source": [
    "#Summary statistics for valid transcations\n",
    "v.Amount.describe()"
   ]
  },
  {
   "cell_type": "code",
   "execution_count": 10,
   "metadata": {
    "execution": {
     "iopub.execute_input": "2023-07-15T17:19:16.202554Z",
     "iopub.status.busy": "2023-07-15T17:19:16.201779Z",
     "iopub.status.idle": "2023-07-15T17:19:22.912633Z",
     "shell.execute_reply": "2023-07-15T17:19:22.911300Z"
    },
    "papermill": {
     "duration": 6.726594,
     "end_time": "2023-07-15T17:19:22.915658",
     "exception": false,
     "start_time": "2023-07-15T17:19:16.189064",
     "status": "completed"
    },
    "tags": []
   },
   "outputs": [
    {
     "data": {
      "text/plain": [
       "Text(0, 0.5, 'Mean Transcation Amount')"
      ]
     },
     "execution_count": 10,
     "metadata": {},
     "output_type": "execute_result"
    },
    {
     "data": {
      "image/png": "[encoded data removed]",
      "text/plain": [
       "<Figure size 432x288 with 1 Axes>"
      ]
     },
     "metadata": {
      "needs_background": "light"
     },
     "output_type": "display_data"
    }
   ],
   "source": [
    "#Graph of amount\n",
    "sns.barplot(data=df,x='Class', y='Amount')\n",
    "plt.ylabel('Mean Transcation Amount')"
   ]
  },
  {
   "cell_type": "code",
   "execution_count": 11,
   "metadata": {},
   "outputs": [
    {
     "name": "stdout",
     "output_type": "stream",
     "text": [
      "There are 1537580 observations in the inflated credit card fraud dataset.\n",
      "There are 31 variables in the dataset.\n",
      "   Time        V1        V2        V3        V4        V5        V6        V7  \\\n",
      "0   0.0 -1.359807 -0.072781  2.536347  1.378155 -0.338321  0.462388  0.239599   \n",
      "1   0.0 -1.359807 -0.072781  2.536347  1.378155 -0.338321  0.462388  0.239599   \n",
      "2   0.0 -1.359807 -0.072781  2.536347  1.378155 -0.338321  0.462388  0.239599   \n",
      "3   0.0 -1.359807 -0.072781  2.536347  1.378155 -0.338321  0.462388  0.239599   \n",
      "4   0.0 -1.359807 -0.072781  2.536347  1.378155 -0.338321  0.462388  0.239599   \n",
      "\n",
      "         V8        V9  ...       V21       V22       V23       V24       V25  \\\n",
      "0  0.098698  0.363787  ... -0.018307  0.277838 -0.110474  0.066928  0.128539   \n",
      "1  0.098698  0.363787  ... -0.018307  0.277838 -0.110474  0.066928  0.128539   \n",
      "2  0.098698  0.363787  ... -0.018307  0.277838 -0.110474  0.066928  0.128539   \n",
      "3  0.098698  0.363787  ... -0.018307  0.277838 -0.110474  0.066928  0.128539   \n",
      "4  0.098698  0.363787  ... -0.018307  0.277838 -0.110474  0.066928  0.128539   \n",
      "\n",
      "        V26       V27       V28  Amount  Class  \n",
      "0 -0.189115  0.133558 -0.021053  149.62    0.0  \n",
      "1 -0.189115  0.133558 -0.021053  149.62    0.0  \n",
      "2 -0.189115  0.133558 -0.021053  149.62    0.0  \n",
      "3 -0.189115  0.133558 -0.021053  149.62    0.0  \n",
      "4 -0.189115  0.133558 -0.021053  149.62    0.0  \n",
      "\n",
      "[5 rows x 31 columns]\n"
     ]
    }
   ],
   "source": [
    "n_replicas = 10\n",
    "\n",
    "# inflate the original dataset\n",
    "df = pd.DataFrame(np.repeat(df.values, n_replicas, axis=0), columns=df.columns)\n",
    "\n",
    "print(\"There are \" + str(len(df)) + \" observations in the inflated credit card fraud dataset.\")\n",
    "print(\"There are \" + str(len(df.columns)) + \" variables in the dataset.\")\n",
    "\n",
    "# display first rows in the new dataset\n",
    "print(df.head())"
   ]
  },
  {
   "cell_type": "code",
   "execution_count": 12,
   "metadata": {},
   "outputs": [
    {
     "data": {
      "image/png": "[encoded data removed]",
      "text/plain": [
       "<Figure size 432x288 with 1 Axes>"
      ]
     },
     "metadata": {},
     "output_type": "display_data"
    }
   ],
   "source": [
    "# get the set of distinct classes\n",
    "labels = df.Class.unique()\n",
    "\n",
    "# get the count of each class\n",
    "sizes = df.Class.value_counts().values\n",
    "\n",
    "# plot the class value counts\n",
    "fig, ax = plt.subplots()\n",
    "ax.pie(sizes, labels=labels, autopct='%1.2f%%')\n",
    "ax.set_title('Target Variable Value Counts')\n",
    "plt.show()"
   ]
  },
  {
   "cell_type": "code",
   "execution_count": 13,
   "metadata": {},
   "outputs": [
    {
     "data": {
      "image/png": "[encoded data removed]",
      "text/plain": [
       "<Figure size 432x288 with 1 Axes>"
      ]
     },
     "metadata": {
      "needs_background": "light"
     },
     "output_type": "display_data"
    },
    {
     "name": "stdout",
     "output_type": "stream",
     "text": [
      "Minimum amount value is  0.0\n",
      "Maximum amount value is  19656.53\n",
      "90% of the transactions have an amount less or equal than  203.93\n"
     ]
    }
   ],
   "source": [
    "plt.hist(df.Amount.values, 6, histtype='bar', facecolor='g')\n",
    "plt.show()\n",
    "\n",
    "print(\"Minimum amount value is \", np.min(df.Amount.values))\n",
    "print(\"Maximum amount value is \", np.max(df.Amount.values))\n",
    "print(\"90% of the transactions have an amount less or equal than \", np.percentile(df.Amount.values, 90))"
   ]
  },
  {
   "cell_type": "markdown",
   "metadata": {},
   "source": [
    "# Data Preprocessing\n",
    "\n",
    "*We preprocessed the data and normalized using normalize() function\n",
    "\n",
    "*We further split into training and testing sets"
   ]
  },
  {
   "cell_type": "code",
   "execution_count": 14,
   "metadata": {},
   "outputs": [
    {
     "name": "stdout",
     "output_type": "stream",
     "text": [
      "X.shape= (1537580, 29) y.shape= (1537580,)\n"
     ]
    }
   ],
   "source": [
    "df.iloc[:, 1:30] = StandardScaler().fit_transform(df.iloc[:, 1:30])\n",
    "data_matrix = df.values\n",
    "\n",
    "# X: feature matrix (for this analysis, we exclude the Time variable from the dataset)\n",
    "X = data_matrix[:, 1:30]\n",
    "\n",
    "# y: labels vector\n",
    "y = data_matrix[:, 30]\n",
    "\n",
    "# data normalization\n",
    "X = normalize(X, norm=\"l1\")\n",
    "\n",
    "# print the shape of the features matrix and the labels vector\n",
    "print('X.shape=', X.shape, 'y.shape=', y.shape)"
   ]
  },
  {
   "cell_type": "markdown",
   "metadata": {},
   "source": [
    "# Split dataset to train/test"
   ]
  },
  {
   "cell_type": "code",
   "execution_count": 15,
   "metadata": {},
   "outputs": [
    {
     "name": "stdout",
     "output_type": "stream",
     "text": [
      "X_train.shape= (1076306, 29) Y_train.shape= (1076306,)\n",
      "X_test.shape= (461274, 29) Y_test.shape= (461274,)\n"
     ]
    }
   ],
   "source": [
    "#splitting the dataset and train/test\n",
    "X_train, X_test, y_train, y_test = train_test_split(X, y, test_size=0.3, random_state=0, stratify=y)       \n",
    "print('X_train.shape=', X_train.shape, 'Y_train.shape=', y_train.shape)\n",
    "print('X_test.shape=', X_test.shape, 'Y_test.shape=', y_test.shape)"
   ]
  },
  {
   "cell_type": "code",
   "execution_count": 16,
   "metadata": {
    "execution": {
     "iopub.execute_input": "2023-07-15T17:19:22.969614Z",
     "iopub.status.busy": "2023-07-15T17:19:22.969075Z",
     "iopub.status.idle": "2023-07-15T17:19:24.738697Z",
     "shell.execute_reply": "2023-07-15T17:19:24.737449Z"
    },
    "papermill": {
     "duration": 1.787182,
     "end_time": "2023-07-15T17:19:24.741353",
     "exception": false,
     "start_time": "2023-07-15T17:19:22.954171",
     "status": "completed"
    },
    "tags": []
   },
   "outputs": [
    {
     "data": {
      "text/plain": [
       "<AxesSubplot:>"
      ]
     },
     "execution_count": 16,
     "metadata": {},
     "output_type": "execute_result"
    },
    {
     "data": {
      "image/png": "[encoded data removed]",
      "text/plain": [
       "<Figure size 720x576 with 2 Axes>"
      ]
     },
     "metadata": {
      "needs_background": "light"
     },
     "output_type": "display_data"
    }
   ],
   "source": [
    "#Correlation Matrix\n",
    "corr = df.corr()\n",
    "fig = plt.figure(figsize = (10, 8)) \n",
    "sns.heatmap(corr, cmap='inferno')\n"
   ]
  },
  {
   "cell_type": "markdown",
   "metadata": {
    "papermill": {
     "duration": 0.012528,
     "end_time": "2023-07-15T17:19:24.767647",
     "exception": false,
     "start_time": "2023-07-15T17:19:24.755119",
     "status": "completed"
    },
    "tags": []
   },
   "source": [
    "# Model Building"
   ]
  },
  {
   "cell_type": "markdown",
   "metadata": {
    "papermill": {
     "duration": 0.013298,
     "end_time": "2023-07-15T17:19:25.163835",
     "exception": false,
     "start_time": "2023-07-15T17:19:25.150537",
     "status": "completed"
    },
    "tags": []
   },
   "source": [
    "# Evaluate our models\n",
    "In this evaluation process, we evaluate the model's performance using metrics like precision, recall, and F1-score and consider techniques like oversampling or undersampling for improving results."
   ]
  },
  {
   "cell_type": "code",
   "execution_count": 17,
   "metadata": {
    "execution": {
     "iopub.execute_input": "2023-07-15T17:19:25.192490Z",
     "iopub.status.busy": "2023-07-15T17:19:25.191784Z",
     "iopub.status.idle": "2023-07-15T17:33:18.874733Z",
     "shell.execute_reply": "2023-07-15T17:33:18.873444Z"
    },
    "papermill": {
     "duration": 833.701178,
     "end_time": "2023-07-15T17:33:18.877975",
     "exception": false,
     "start_time": "2023-07-15T17:19:25.176797",
     "status": "completed"
    },
    "tags": []
   },
   "outputs": [],
   "source": [
    "#Create Model Dictionary\n",
    "models ={ \n",
    "         'LogReg': LogisticRegression(),  \n",
    "         'rforest': RandomForestClassifier()\n",
    "}\n",
    "#Name and Score list\n",
    "names=[]\n",
    "scores=[]\n",
    "#Loop over name and model \n",
    "for name, model in models.items():\n",
    "    model.fit(X_train, y_train)\n",
    "    y_pred = model.predict(X_test)\n",
    "    score = accuracy_score(y_pred, y_test)\n",
    "    names.append(name)\n",
    "    scores.append(score)"
   ]
  },
  {
   "cell_type": "code",
   "execution_count": 18,
   "metadata": {
    "execution": {
     "iopub.execute_input": "2023-07-15T17:33:18.906196Z",
     "iopub.status.busy": "2023-07-15T17:33:18.905738Z",
     "iopub.status.idle": "2023-07-15T17:33:18.920271Z",
     "shell.execute_reply": "2023-07-15T17:33:18.918833Z"
    },
    "papermill": {
     "duration": 0.031729,
     "end_time": "2023-07-15T17:33:18.923017",
     "exception": false,
     "start_time": "2023-07-15T17:33:18.891288",
     "status": "completed"
    },
    "tags": []
   },
   "outputs": [
    {
     "data": {
      "text/html": [
       "<div>\n",
       "<style scoped>\n",
       "    .dataframe tbody tr th:only-of-type {\n",
       "        vertical-align: middle;\n",
       "    }\n",
       "\n",
       "    .dataframe tbody tr th {\n",
       "        vertical-align: top;\n",
       "    }\n",
       "\n",
       "    .dataframe thead th {\n",
       "        text-align: right;\n",
       "    }\n",
       "</style>\n",
       "<table border=\"1\" class=\"dataframe\">\n",
       "  <thead>\n",
       "    <tr style=\"text-align: right;\">\n",
       "      <th></th>\n",
       "      <th>model</th>\n",
       "      <th>score</th>\n",
       "    </tr>\n",
       "  </thead>\n",
       "  <tbody>\n",
       "    <tr>\n",
       "      <th>1</th>\n",
       "      <td>rforest</td>\n",
       "      <td>1.000000</td>\n",
       "    </tr>\n",
       "    <tr>\n",
       "      <th>0</th>\n",
       "      <td>LogReg</td>\n",
       "      <td>0.998994</td>\n",
       "    </tr>\n",
       "  </tbody>\n",
       "</table>\n",
       "</div>"
      ],
      "text/plain": [
       "     model     score\n",
       "1  rforest  1.000000\n",
       "0   LogReg  0.998994"
      ]
     },
     "execution_count": 18,
     "metadata": {},
     "output_type": "execute_result"
    }
   ],
   "source": [
    "#Create a DataFrame to Compare Scores\n",
    "results = pd.DataFrame({'model': names, 'score': scores})\n",
    "#Sort Results\n",
    "results.sort_values(by='score', ascending=False)"
   ]
  },
  {
   "cell_type": "markdown",
   "metadata": {
    "papermill": {
     "duration": 0.012633,
     "end_time": "2023-07-15T17:33:18.949226",
     "exception": false,
     "start_time": "2023-07-15T17:33:18.936593",
     "status": "completed"
    },
    "tags": []
   },
   "source": [
    "#The random forest model performed best!"
   ]
  },
  {
   "cell_type": "markdown",
   "metadata": {
    "papermill": {
     "duration": 0.012549,
     "end_time": "2023-07-15T17:33:18.974801",
     "exception": false,
     "start_time": "2023-07-15T17:33:18.962252",
     "status": "completed"
    },
    "tags": []
   },
   "source": [
    "# Define the random forest model"
   ]
  },
  {
   "cell_type": "code",
   "execution_count": 19,
   "metadata": {
    "execution": {
     "iopub.execute_input": "2023-07-15T17:33:19.003368Z",
     "iopub.status.busy": "2023-07-15T17:33:19.002254Z",
     "iopub.status.idle": "2023-07-15T17:38:58.269116Z",
     "shell.execute_reply": "2023-07-15T17:38:58.267638Z"
    },
    "papermill": {
     "duration": 339.297307,
     "end_time": "2023-07-15T17:38:58.285218",
     "exception": false,
     "start_time": "2023-07-15T17:33:18.987911",
     "status": "completed"
    },
    "tags": []
   },
   "outputs": [
    {
     "name": "stdout",
     "output_type": "stream",
     "text": [
      "1.0\n"
     ]
    }
   ],
   "source": [
    "#Define\n",
    "rforest = RandomForestClassifier()\n",
    "#Fit model\n",
    "rforest.fit(X_train,y_train)\n",
    "#predict\n",
    "y_pred = rforest.predict(X_test)\n",
    "#score\n",
    "score = accuracy_score(y_pred, y_test)\n",
    "#print\n",
    "print(score)"
   ]
  },
  {
   "cell_type": "code",
   "execution_count": 20,
   "metadata": {
    "execution": {
     "iopub.execute_input": "2023-07-15T17:38:58.315704Z",
     "iopub.status.busy": "2023-07-15T17:38:58.314666Z",
     "iopub.status.idle": "2023-07-15T17:38:58.399909Z",
     "shell.execute_reply": "2023-07-15T17:38:58.398607Z"
    },
    "papermill": {
     "duration": 0.103858,
     "end_time": "2023-07-15T17:38:58.402675",
     "exception": false,
     "start_time": "2023-07-15T17:38:58.298817",
     "status": "completed"
    },
    "tags": []
   },
   "outputs": [
    {
     "name": "stdout",
     "output_type": "stream",
     "text": [
      "              precision    recall  f1-score   support\n",
      "\n",
      "         0.0       1.00      1.00      1.00    460284\n",
      "         1.0       1.00      1.00      1.00       990\n",
      "\n",
      "    accuracy                           1.00    461274\n",
      "   macro avg       1.00      1.00      1.00    461274\n",
      "weighted avg       1.00      1.00      1.00    461274\n",
      "\n"
     ]
    }
   ],
   "source": [
    "#Create report\n",
    "report=classification_report(y_test,y_pred)\n",
    "#Print report\n",
    "print(report)"
   ]
  },
  {
   "cell_type": "markdown",
   "metadata": {},
   "source": [
    "# Performing undersampling/oversampling \n",
    "\n",
    "Both undersampling and oversampling aim to improve the performance of machine learning models when dealing with imbalanced datasets.They are techniques used to address class imbalance in datasets, particularly in binary classification problems where one class is significantly more frequent than the other."
   ]
  },
  {
   "cell_type": "code",
   "execution_count": 22,
   "metadata": {},
   "outputs": [],
   "source": [
    "from imblearn.under_sampling import RandomUnderSampler\n",
    "from imblearn.over_sampling import RandomOverSampler"
   ]
  },
  {
   "cell_type": "markdown",
   "metadata": {
    "papermill": {
     "duration": 0.014273,
     "end_time": "2023-07-15T17:38:58.430316",
     "exception": false,
     "start_time": "2023-07-15T17:38:58.416043",
     "status": "completed"
    },
    "tags": []
   },
   "source": [
    "And now we have a Random Forest supervised classification model to predict credit card fraud."
   ]
  },
  {
   "cell_type": "code",
   "execution_count": 23,
   "metadata": {},
   "outputs": [],
   "source": [
    "# Apply Random Under-Sampling to balance the dataset\n",
    "rus = RandomUnderSampler(random_state=42)\n",
    "X_train_resampled, y_train_resampled = rus.fit_resample(X_train, y_train)\n",
    "\n",
    "# Apply Random Over-Sampling to balance the dataset\n",
    "ros = RandomOverSampler(random_state=42)\n",
    "X_train_resampled, y_train_resampled = ros.fit_resample(X_train, y_train)\n"
   ]
  },
  {
   "cell_type": "code",
   "execution_count": 24,
   "metadata": {},
   "outputs": [
    {
     "name": "stdout",
     "output_type": "stream",
     "text": [
      "\n",
      "Accuracy: 1.0\n",
      "Confusion Matrix:\n",
      "[[460284      0]\n",
      " [     0    990]]\n"
     ]
    }
   ],
   "source": [
    "# Train a Random Forest Classifier on the resampled data\n",
    "rf_classifier = RandomForestClassifier(random_state=42)\n",
    "rf_classifier.fit(X_train_resampled, y_train_resampled)\n",
    "\n",
    "# Make predictions on the test set\n",
    "y_pred = rf_classifier.predict(X_test)\n",
    "\n",
    "# Evaluate the classifier\n",
    "accuracy = accuracy_score(y_test, y_pred)\n",
    "conf_matrix = confusion_matrix(y_test, y_pred)\n",
    "\n",
    "print(\"\\nAccuracy:\", accuracy)\n",
    "print(\"Confusion Matrix:\")\n",
    "print(conf_matrix)\n"
   ]
  },
  {
   "cell_type": "code",
   "execution_count": null,
   "metadata": {},
   "outputs": [],
   "source": []
  }
 ],
 "metadata": {
  "kernelspec": {
   "display_name": "Python 3",
   "language": "python",
   "name": "python3"
  },
  "language_info": {
   "codemirror_mode": {
    "name": "ipython",
    "version": 3
   },
   "file_extension": ".py",
   "mimetype": "text/x-python",
   "name": "python",
   "nbconvert_exporter": "python",
   "pygments_lexer": "ipython3",
   "version": "3.8.5"
  },
  "papermill": {
   "default_parameters": {},
   "duration": 1206.927095,
   "end_time": "2023-07-15T17:38:59.571324",
   "environment_variables": {},
   "exception": null,
   "input_path": "__notebook__.ipynb",
   "output_path": "__notebook__.ipynb",
   "parameters": {},
   "start_time": "2023-07-15T17:18:52.644229",
   "version": "2.4.0"
  }
 },
 "nbformat": 4,
 "nbformat_minor": 5
}
